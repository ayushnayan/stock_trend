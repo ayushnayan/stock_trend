{
  "nbformat": 4,
  "nbformat_minor": 0,
  "metadata": {
    "colab": {
      "provenance": []
    },
    "kernelspec": {
      "name": "python3",
      "display_name": "Python 3"
    },
    "language_info": {
      "name": "python"
    }
  },
  "cells": [
    {
      "cell_type": "code",
      "execution_count": 3,
      "metadata": {
        "colab": {
          "base_uri": "https://localhost:8080/",
          "height": 256
        },
        "id": "rzv-WOg2eSsY",
        "outputId": "583c83eb-be3a-48b4-dddb-23aff083d720"
      },
      "outputs": [
        {
          "output_type": "stream",
          "name": "stdout",
          "text": [
            "\r[*********************100%***********************]  1 of 1 completed\n"
          ]
        },
        {
          "output_type": "execute_result",
          "data": {
            "text/plain": [
              "                Open      High       Low     Close  Adj Close     Volume\n",
              "Date                                                                    \n",
              "2010-01-04  7.622500  7.660714  7.585000  7.643214   6.496294  493729600\n",
              "2010-01-05  7.664286  7.699643  7.616071  7.656429   6.507525  601904800\n",
              "2010-01-06  7.656429  7.686786  7.526786  7.534643   6.404014  552160000\n",
              "2010-01-07  7.562500  7.571429  7.466071  7.520714   6.392175  477131200\n",
              "2010-01-08  7.510714  7.571429  7.466429  7.570714   6.434674  447610800"
            ],
            "text/html": [
              "\n",
              "  <div id=\"df-3b386a02-ac5a-4687-ba65-cf2b9228b924\">\n",
              "    <div class=\"colab-df-container\">\n",
              "      <div>\n",
              "<style scoped>\n",
              "    .dataframe tbody tr th:only-of-type {\n",
              "        vertical-align: middle;\n",
              "    }\n",
              "\n",
              "    .dataframe tbody tr th {\n",
              "        vertical-align: top;\n",
              "    }\n",
              "\n",
              "    .dataframe thead th {\n",
              "        text-align: right;\n",
              "    }\n",
              "</style>\n",
              "<table border=\"1\" class=\"dataframe\">\n",
              "  <thead>\n",
              "    <tr style=\"text-align: right;\">\n",
              "      <th></th>\n",
              "      <th>Open</th>\n",
              "      <th>High</th>\n",
              "      <th>Low</th>\n",
              "      <th>Close</th>\n",
              "      <th>Adj Close</th>\n",
              "      <th>Volume</th>\n",
              "    </tr>\n",
              "    <tr>\n",
              "      <th>Date</th>\n",
              "      <th></th>\n",
              "      <th></th>\n",
              "      <th></th>\n",
              "      <th></th>\n",
              "      <th></th>\n",
              "      <th></th>\n",
              "    </tr>\n",
              "  </thead>\n",
              "  <tbody>\n",
              "    <tr>\n",
              "      <th>2010-01-04</th>\n",
              "      <td>7.622500</td>\n",
              "      <td>7.660714</td>\n",
              "      <td>7.585000</td>\n",
              "      <td>7.643214</td>\n",
              "      <td>6.496294</td>\n",
              "      <td>493729600</td>\n",
              "    </tr>\n",
              "    <tr>\n",
              "      <th>2010-01-05</th>\n",
              "      <td>7.664286</td>\n",
              "      <td>7.699643</td>\n",
              "      <td>7.616071</td>\n",
              "      <td>7.656429</td>\n",
              "      <td>6.507525</td>\n",
              "      <td>601904800</td>\n",
              "    </tr>\n",
              "    <tr>\n",
              "      <th>2010-01-06</th>\n",
              "      <td>7.656429</td>\n",
              "      <td>7.686786</td>\n",
              "      <td>7.526786</td>\n",
              "      <td>7.534643</td>\n",
              "      <td>6.404014</td>\n",
              "      <td>552160000</td>\n",
              "    </tr>\n",
              "    <tr>\n",
              "      <th>2010-01-07</th>\n",
              "      <td>7.562500</td>\n",
              "      <td>7.571429</td>\n",
              "      <td>7.466071</td>\n",
              "      <td>7.520714</td>\n",
              "      <td>6.392175</td>\n",
              "      <td>477131200</td>\n",
              "    </tr>\n",
              "    <tr>\n",
              "      <th>2010-01-08</th>\n",
              "      <td>7.510714</td>\n",
              "      <td>7.571429</td>\n",
              "      <td>7.466429</td>\n",
              "      <td>7.570714</td>\n",
              "      <td>6.434674</td>\n",
              "      <td>447610800</td>\n",
              "    </tr>\n",
              "  </tbody>\n",
              "</table>\n",
              "</div>\n",
              "      <button class=\"colab-df-convert\" onclick=\"convertToInteractive('df-3b386a02-ac5a-4687-ba65-cf2b9228b924')\"\n",
              "              title=\"Convert this dataframe to an interactive table.\"\n",
              "              style=\"display:none;\">\n",
              "        \n",
              "  <svg xmlns=\"http://www.w3.org/2000/svg\" height=\"24px\"viewBox=\"0 0 24 24\"\n",
              "       width=\"24px\">\n",
              "    <path d=\"M0 0h24v24H0V0z\" fill=\"none\"/>\n",
              "    <path d=\"M18.56 5.44l.94 2.06.94-2.06 2.06-.94-2.06-.94-.94-2.06-.94 2.06-2.06.94zm-11 1L8.5 8.5l.94-2.06 2.06-.94-2.06-.94L8.5 2.5l-.94 2.06-2.06.94zm10 10l.94 2.06.94-2.06 2.06-.94-2.06-.94-.94-2.06-.94 2.06-2.06.94z\"/><path d=\"M17.41 7.96l-1.37-1.37c-.4-.4-.92-.59-1.43-.59-.52 0-1.04.2-1.43.59L10.3 9.45l-7.72 7.72c-.78.78-.78 2.05 0 2.83L4 21.41c.39.39.9.59 1.41.59.51 0 1.02-.2 1.41-.59l7.78-7.78 2.81-2.81c.8-.78.8-2.07 0-2.86zM5.41 20L4 18.59l7.72-7.72 1.47 1.35L5.41 20z\"/>\n",
              "  </svg>\n",
              "      </button>\n",
              "      \n",
              "  <style>\n",
              "    .colab-df-container {\n",
              "      display:flex;\n",
              "      flex-wrap:wrap;\n",
              "      gap: 12px;\n",
              "    }\n",
              "\n",
              "    .colab-df-convert {\n",
              "      background-color: #E8F0FE;\n",
              "      border: none;\n",
              "      border-radius: 50%;\n",
              "      cursor: pointer;\n",
              "      display: none;\n",
              "      fill: #1967D2;\n",
              "      height: 32px;\n",
              "      padding: 0 0 0 0;\n",
              "      width: 32px;\n",
              "    }\n",
              "\n",
              "    .colab-df-convert:hover {\n",
              "      background-color: #E2EBFA;\n",
              "      box-shadow: 0px 1px 2px rgba(60, 64, 67, 0.3), 0px 1px 3px 1px rgba(60, 64, 67, 0.15);\n",
              "      fill: #174EA6;\n",
              "    }\n",
              "\n",
              "    [theme=dark] .colab-df-convert {\n",
              "      background-color: #3B4455;\n",
              "      fill: #D2E3FC;\n",
              "    }\n",
              "\n",
              "    [theme=dark] .colab-df-convert:hover {\n",
              "      background-color: #434B5C;\n",
              "      box-shadow: 0px 1px 3px 1px rgba(0, 0, 0, 0.15);\n",
              "      filter: drop-shadow(0px 1px 2px rgba(0, 0, 0, 0.3));\n",
              "      fill: #FFFFFF;\n",
              "    }\n",
              "  </style>\n",
              "\n",
              "      <script>\n",
              "        const buttonEl =\n",
              "          document.querySelector('#df-3b386a02-ac5a-4687-ba65-cf2b9228b924 button.colab-df-convert');\n",
              "        buttonEl.style.display =\n",
              "          google.colab.kernel.accessAllowed ? 'block' : 'none';\n",
              "\n",
              "        async function convertToInteractive(key) {\n",
              "          const element = document.querySelector('#df-3b386a02-ac5a-4687-ba65-cf2b9228b924');\n",
              "          const dataTable =\n",
              "            await google.colab.kernel.invokeFunction('convertToInteractive',\n",
              "                                                     [key], {});\n",
              "          if (!dataTable) return;\n",
              "\n",
              "          const docLinkHtml = 'Like what you see? Visit the ' +\n",
              "            '<a target=\"_blank\" href=https://colab.research.google.com/notebooks/data_table.ipynb>data table notebook</a>'\n",
              "            + ' to learn more about interactive tables.';\n",
              "          element.innerHTML = '';\n",
              "          dataTable['output_type'] = 'display_data';\n",
              "          await google.colab.output.renderOutput(dataTable, element);\n",
              "          const docLink = document.createElement('div');\n",
              "          docLink.innerHTML = docLinkHtml;\n",
              "          element.appendChild(docLink);\n",
              "        }\n",
              "      </script>\n",
              "    </div>\n",
              "  </div>\n",
              "  "
            ]
          },
          "metadata": {},
          "execution_count": 3
        }
      ],
      "source": [
        "import numpy as np\n",
        "import pandas as pd\n",
        "import matplotlib.pyplot as plt\n",
        "import yfinance as yf\n",
        "\n",
        "\n"
      ]
    },
    {
      "cell_type": "code",
      "source": [
        "start = '2010-04-01'\n",
        "end = '2023-03-31'\n",
        "df = yf.download('TATASTEEL.NS', start=start, end=end)\n",
        "df.head()"
      ],
      "metadata": {
        "colab": {
          "base_uri": "https://localhost:8080/",
          "height": 256
        },
        "id": "aU2Ny66xeV4b",
        "outputId": "a130d6be-1da5-464f-940b-8429755d8d6b"
      },
      "execution_count": 4,
      "outputs": [
        {
          "output_type": "stream",
          "name": "stdout",
          "text": [
            "\r[*********************100%***********************]  1 of 1 completed\n"
          ]
        },
        {
          "output_type": "execute_result",
          "data": {
            "text/plain": [
              "                 Open       High        Low      Close  Adj Close    Volume\n",
              "Date                                                                       \n",
              "2010-04-01  60.594051  62.308975  60.517830  62.137482  20.293346  44671662\n",
              "2010-04-05  62.423306  64.767036  62.423306  64.643181  21.111675  63183830\n",
              "2010-04-06  64.929001  66.205666  64.119179  65.510170  21.394825  61411294\n",
              "2010-04-07  65.738831  66.005592  64.547905  65.324387  21.334150  41024579\n",
              "2010-04-08  64.786095  70.407234  63.661861  63.952446  20.886087  40836594"
            ],
            "text/html": [
              "\n",
              "  <div id=\"df-4d8b0179-36f1-453d-8cb6-a43012d9bc53\">\n",
              "    <div class=\"colab-df-container\">\n",
              "      <div>\n",
              "<style scoped>\n",
              "    .dataframe tbody tr th:only-of-type {\n",
              "        vertical-align: middle;\n",
              "    }\n",
              "\n",
              "    .dataframe tbody tr th {\n",
              "        vertical-align: top;\n",
              "    }\n",
              "\n",
              "    .dataframe thead th {\n",
              "        text-align: right;\n",
              "    }\n",
              "</style>\n",
              "<table border=\"1\" class=\"dataframe\">\n",
              "  <thead>\n",
              "    <tr style=\"text-align: right;\">\n",
              "      <th></th>\n",
              "      <th>Open</th>\n",
              "      <th>High</th>\n",
              "      <th>Low</th>\n",
              "      <th>Close</th>\n",
              "      <th>Adj Close</th>\n",
              "      <th>Volume</th>\n",
              "    </tr>\n",
              "    <tr>\n",
              "      <th>Date</th>\n",
              "      <th></th>\n",
              "      <th></th>\n",
              "      <th></th>\n",
              "      <th></th>\n",
              "      <th></th>\n",
              "      <th></th>\n",
              "    </tr>\n",
              "  </thead>\n",
              "  <tbody>\n",
              "    <tr>\n",
              "      <th>2010-04-01</th>\n",
              "      <td>60.594051</td>\n",
              "      <td>62.308975</td>\n",
              "      <td>60.517830</td>\n",
              "      <td>62.137482</td>\n",
              "      <td>20.293346</td>\n",
              "      <td>44671662</td>\n",
              "    </tr>\n",
              "    <tr>\n",
              "      <th>2010-04-05</th>\n",
              "      <td>62.423306</td>\n",
              "      <td>64.767036</td>\n",
              "      <td>62.423306</td>\n",
              "      <td>64.643181</td>\n",
              "      <td>21.111675</td>\n",
              "      <td>63183830</td>\n",
              "    </tr>\n",
              "    <tr>\n",
              "      <th>2010-04-06</th>\n",
              "      <td>64.929001</td>\n",
              "      <td>66.205666</td>\n",
              "      <td>64.119179</td>\n",
              "      <td>65.510170</td>\n",
              "      <td>21.394825</td>\n",
              "      <td>61411294</td>\n",
              "    </tr>\n",
              "    <tr>\n",
              "      <th>2010-04-07</th>\n",
              "      <td>65.738831</td>\n",
              "      <td>66.005592</td>\n",
              "      <td>64.547905</td>\n",
              "      <td>65.324387</td>\n",
              "      <td>21.334150</td>\n",
              "      <td>41024579</td>\n",
              "    </tr>\n",
              "    <tr>\n",
              "      <th>2010-04-08</th>\n",
              "      <td>64.786095</td>\n",
              "      <td>70.407234</td>\n",
              "      <td>63.661861</td>\n",
              "      <td>63.952446</td>\n",
              "      <td>20.886087</td>\n",
              "      <td>40836594</td>\n",
              "    </tr>\n",
              "  </tbody>\n",
              "</table>\n",
              "</div>\n",
              "      <button class=\"colab-df-convert\" onclick=\"convertToInteractive('df-4d8b0179-36f1-453d-8cb6-a43012d9bc53')\"\n",
              "              title=\"Convert this dataframe to an interactive table.\"\n",
              "              style=\"display:none;\">\n",
              "        \n",
              "  <svg xmlns=\"http://www.w3.org/2000/svg\" height=\"24px\"viewBox=\"0 0 24 24\"\n",
              "       width=\"24px\">\n",
              "    <path d=\"M0 0h24v24H0V0z\" fill=\"none\"/>\n",
              "    <path d=\"M18.56 5.44l.94 2.06.94-2.06 2.06-.94-2.06-.94-.94-2.06-.94 2.06-2.06.94zm-11 1L8.5 8.5l.94-2.06 2.06-.94-2.06-.94L8.5 2.5l-.94 2.06-2.06.94zm10 10l.94 2.06.94-2.06 2.06-.94-2.06-.94-.94-2.06-.94 2.06-2.06.94z\"/><path d=\"M17.41 7.96l-1.37-1.37c-.4-.4-.92-.59-1.43-.59-.52 0-1.04.2-1.43.59L10.3 9.45l-7.72 7.72c-.78.78-.78 2.05 0 2.83L4 21.41c.39.39.9.59 1.41.59.51 0 1.02-.2 1.41-.59l7.78-7.78 2.81-2.81c.8-.78.8-2.07 0-2.86zM5.41 20L4 18.59l7.72-7.72 1.47 1.35L5.41 20z\"/>\n",
              "  </svg>\n",
              "      </button>\n",
              "      \n",
              "  <style>\n",
              "    .colab-df-container {\n",
              "      display:flex;\n",
              "      flex-wrap:wrap;\n",
              "      gap: 12px;\n",
              "    }\n",
              "\n",
              "    .colab-df-convert {\n",
              "      background-color: #E8F0FE;\n",
              "      border: none;\n",
              "      border-radius: 50%;\n",
              "      cursor: pointer;\n",
              "      display: none;\n",
              "      fill: #1967D2;\n",
              "      height: 32px;\n",
              "      padding: 0 0 0 0;\n",
              "      width: 32px;\n",
              "    }\n",
              "\n",
              "    .colab-df-convert:hover {\n",
              "      background-color: #E2EBFA;\n",
              "      box-shadow: 0px 1px 2px rgba(60, 64, 67, 0.3), 0px 1px 3px 1px rgba(60, 64, 67, 0.15);\n",
              "      fill: #174EA6;\n",
              "    }\n",
              "\n",
              "    [theme=dark] .colab-df-convert {\n",
              "      background-color: #3B4455;\n",
              "      fill: #D2E3FC;\n",
              "    }\n",
              "\n",
              "    [theme=dark] .colab-df-convert:hover {\n",
              "      background-color: #434B5C;\n",
              "      box-shadow: 0px 1px 3px 1px rgba(0, 0, 0, 0.15);\n",
              "      filter: drop-shadow(0px 1px 2px rgba(0, 0, 0, 0.3));\n",
              "      fill: #FFFFFF;\n",
              "    }\n",
              "  </style>\n",
              "\n",
              "      <script>\n",
              "        const buttonEl =\n",
              "          document.querySelector('#df-4d8b0179-36f1-453d-8cb6-a43012d9bc53 button.colab-df-convert');\n",
              "        buttonEl.style.display =\n",
              "          google.colab.kernel.accessAllowed ? 'block' : 'none';\n",
              "\n",
              "        async function convertToInteractive(key) {\n",
              "          const element = document.querySelector('#df-4d8b0179-36f1-453d-8cb6-a43012d9bc53');\n",
              "          const dataTable =\n",
              "            await google.colab.kernel.invokeFunction('convertToInteractive',\n",
              "                                                     [key], {});\n",
              "          if (!dataTable) return;\n",
              "\n",
              "          const docLinkHtml = 'Like what you see? Visit the ' +\n",
              "            '<a target=\"_blank\" href=https://colab.research.google.com/notebooks/data_table.ipynb>data table notebook</a>'\n",
              "            + ' to learn more about interactive tables.';\n",
              "          element.innerHTML = '';\n",
              "          dataTable['output_type'] = 'display_data';\n",
              "          await google.colab.output.renderOutput(dataTable, element);\n",
              "          const docLink = document.createElement('div');\n",
              "          docLink.innerHTML = docLinkHtml;\n",
              "          element.appendChild(docLink);\n",
              "        }\n",
              "      </script>\n",
              "    </div>\n",
              "  </div>\n",
              "  "
            ]
          },
          "metadata": {},
          "execution_count": 4
        }
      ]
    },
    {
      "cell_type": "code",
      "source": [
        "df= df.reset_index()"
      ],
      "metadata": {
        "id": "1HPjFk3Vhhsj"
      },
      "execution_count": 5,
      "outputs": []
    },
    {
      "cell_type": "code",
      "source": [
        "df= df.drop(['Date','Adj Close'], axis=1)\n",
        "df"
      ],
      "metadata": {
        "colab": {
          "base_uri": "https://localhost:8080/",
          "height": 423
        },
        "id": "bo2TbOochmCW",
        "outputId": "13b19d30-c997-43b6-f9b3-e8af51135cef"
      },
      "execution_count": 7,
      "outputs": [
        {
          "output_type": "execute_result",
          "data": {
            "text/plain": [
              "            Open        High         Low       Close    Volume\n",
              "0      60.594051   62.308975   60.517830   62.137482  44671662\n",
              "1      62.423306   64.767036   62.423306   64.643181  63183830\n",
              "2      64.929001   66.205666   64.119179   65.510170  61411294\n",
              "3      65.738831   66.005592   64.547905   65.324387  41024579\n",
              "4      64.786095   70.407234   63.661861   63.952446  40836594\n",
              "...          ...         ...         ...         ...       ...\n",
              "3206  104.400002  105.500000  104.349998  104.900002  20913844\n",
              "3207  105.000000  105.050003  101.550003  102.099998  39014278\n",
              "3208  102.550003  103.400002  102.099998  102.300003  24753289\n",
              "3209  102.849998  103.099998  102.349998  102.500000  18703734\n",
              "3210  102.500000  104.500000  101.650002  103.599998  37221124\n",
              "\n",
              "[3211 rows x 5 columns]"
            ],
            "text/html": [
              "\n",
              "  <div id=\"df-3125aefc-6bfe-4338-99e0-d3cf1176f3f1\">\n",
              "    <div class=\"colab-df-container\">\n",
              "      <div>\n",
              "<style scoped>\n",
              "    .dataframe tbody tr th:only-of-type {\n",
              "        vertical-align: middle;\n",
              "    }\n",
              "\n",
              "    .dataframe tbody tr th {\n",
              "        vertical-align: top;\n",
              "    }\n",
              "\n",
              "    .dataframe thead th {\n",
              "        text-align: right;\n",
              "    }\n",
              "</style>\n",
              "<table border=\"1\" class=\"dataframe\">\n",
              "  <thead>\n",
              "    <tr style=\"text-align: right;\">\n",
              "      <th></th>\n",
              "      <th>Open</th>\n",
              "      <th>High</th>\n",
              "      <th>Low</th>\n",
              "      <th>Close</th>\n",
              "      <th>Volume</th>\n",
              "    </tr>\n",
              "  </thead>\n",
              "  <tbody>\n",
              "    <tr>\n",
              "      <th>0</th>\n",
              "      <td>60.594051</td>\n",
              "      <td>62.308975</td>\n",
              "      <td>60.517830</td>\n",
              "      <td>62.137482</td>\n",
              "      <td>44671662</td>\n",
              "    </tr>\n",
              "    <tr>\n",
              "      <th>1</th>\n",
              "      <td>62.423306</td>\n",
              "      <td>64.767036</td>\n",
              "      <td>62.423306</td>\n",
              "      <td>64.643181</td>\n",
              "      <td>63183830</td>\n",
              "    </tr>\n",
              "    <tr>\n",
              "      <th>2</th>\n",
              "      <td>64.929001</td>\n",
              "      <td>66.205666</td>\n",
              "      <td>64.119179</td>\n",
              "      <td>65.510170</td>\n",
              "      <td>61411294</td>\n",
              "    </tr>\n",
              "    <tr>\n",
              "      <th>3</th>\n",
              "      <td>65.738831</td>\n",
              "      <td>66.005592</td>\n",
              "      <td>64.547905</td>\n",
              "      <td>65.324387</td>\n",
              "      <td>41024579</td>\n",
              "    </tr>\n",
              "    <tr>\n",
              "      <th>4</th>\n",
              "      <td>64.786095</td>\n",
              "      <td>70.407234</td>\n",
              "      <td>63.661861</td>\n",
              "      <td>63.952446</td>\n",
              "      <td>40836594</td>\n",
              "    </tr>\n",
              "    <tr>\n",
              "      <th>...</th>\n",
              "      <td>...</td>\n",
              "      <td>...</td>\n",
              "      <td>...</td>\n",
              "      <td>...</td>\n",
              "      <td>...</td>\n",
              "    </tr>\n",
              "    <tr>\n",
              "      <th>3206</th>\n",
              "      <td>104.400002</td>\n",
              "      <td>105.500000</td>\n",
              "      <td>104.349998</td>\n",
              "      <td>104.900002</td>\n",
              "      <td>20913844</td>\n",
              "    </tr>\n",
              "    <tr>\n",
              "      <th>3207</th>\n",
              "      <td>105.000000</td>\n",
              "      <td>105.050003</td>\n",
              "      <td>101.550003</td>\n",
              "      <td>102.099998</td>\n",
              "      <td>39014278</td>\n",
              "    </tr>\n",
              "    <tr>\n",
              "      <th>3208</th>\n",
              "      <td>102.550003</td>\n",
              "      <td>103.400002</td>\n",
              "      <td>102.099998</td>\n",
              "      <td>102.300003</td>\n",
              "      <td>24753289</td>\n",
              "    </tr>\n",
              "    <tr>\n",
              "      <th>3209</th>\n",
              "      <td>102.849998</td>\n",
              "      <td>103.099998</td>\n",
              "      <td>102.349998</td>\n",
              "      <td>102.500000</td>\n",
              "      <td>18703734</td>\n",
              "    </tr>\n",
              "    <tr>\n",
              "      <th>3210</th>\n",
              "      <td>102.500000</td>\n",
              "      <td>104.500000</td>\n",
              "      <td>101.650002</td>\n",
              "      <td>103.599998</td>\n",
              "      <td>37221124</td>\n",
              "    </tr>\n",
              "  </tbody>\n",
              "</table>\n",
              "<p>3211 rows × 5 columns</p>\n",
              "</div>\n",
              "      <button class=\"colab-df-convert\" onclick=\"convertToInteractive('df-3125aefc-6bfe-4338-99e0-d3cf1176f3f1')\"\n",
              "              title=\"Convert this dataframe to an interactive table.\"\n",
              "              style=\"display:none;\">\n",
              "        \n",
              "  <svg xmlns=\"http://www.w3.org/2000/svg\" height=\"24px\"viewBox=\"0 0 24 24\"\n",
              "       width=\"24px\">\n",
              "    <path d=\"M0 0h24v24H0V0z\" fill=\"none\"/>\n",
              "    <path d=\"M18.56 5.44l.94 2.06.94-2.06 2.06-.94-2.06-.94-.94-2.06-.94 2.06-2.06.94zm-11 1L8.5 8.5l.94-2.06 2.06-.94-2.06-.94L8.5 2.5l-.94 2.06-2.06.94zm10 10l.94 2.06.94-2.06 2.06-.94-2.06-.94-.94-2.06-.94 2.06-2.06.94z\"/><path d=\"M17.41 7.96l-1.37-1.37c-.4-.4-.92-.59-1.43-.59-.52 0-1.04.2-1.43.59L10.3 9.45l-7.72 7.72c-.78.78-.78 2.05 0 2.83L4 21.41c.39.39.9.59 1.41.59.51 0 1.02-.2 1.41-.59l7.78-7.78 2.81-2.81c.8-.78.8-2.07 0-2.86zM5.41 20L4 18.59l7.72-7.72 1.47 1.35L5.41 20z\"/>\n",
              "  </svg>\n",
              "      </button>\n",
              "      \n",
              "  <style>\n",
              "    .colab-df-container {\n",
              "      display:flex;\n",
              "      flex-wrap:wrap;\n",
              "      gap: 12px;\n",
              "    }\n",
              "\n",
              "    .colab-df-convert {\n",
              "      background-color: #E8F0FE;\n",
              "      border: none;\n",
              "      border-radius: 50%;\n",
              "      cursor: pointer;\n",
              "      display: none;\n",
              "      fill: #1967D2;\n",
              "      height: 32px;\n",
              "      padding: 0 0 0 0;\n",
              "      width: 32px;\n",
              "    }\n",
              "\n",
              "    .colab-df-convert:hover {\n",
              "      background-color: #E2EBFA;\n",
              "      box-shadow: 0px 1px 2px rgba(60, 64, 67, 0.3), 0px 1px 3px 1px rgba(60, 64, 67, 0.15);\n",
              "      fill: #174EA6;\n",
              "    }\n",
              "\n",
              "    [theme=dark] .colab-df-convert {\n",
              "      background-color: #3B4455;\n",
              "      fill: #D2E3FC;\n",
              "    }\n",
              "\n",
              "    [theme=dark] .colab-df-convert:hover {\n",
              "      background-color: #434B5C;\n",
              "      box-shadow: 0px 1px 3px 1px rgba(0, 0, 0, 0.15);\n",
              "      filter: drop-shadow(0px 1px 2px rgba(0, 0, 0, 0.3));\n",
              "      fill: #FFFFFF;\n",
              "    }\n",
              "  </style>\n",
              "\n",
              "      <script>\n",
              "        const buttonEl =\n",
              "          document.querySelector('#df-3125aefc-6bfe-4338-99e0-d3cf1176f3f1 button.colab-df-convert');\n",
              "        buttonEl.style.display =\n",
              "          google.colab.kernel.accessAllowed ? 'block' : 'none';\n",
              "\n",
              "        async function convertToInteractive(key) {\n",
              "          const element = document.querySelector('#df-3125aefc-6bfe-4338-99e0-d3cf1176f3f1');\n",
              "          const dataTable =\n",
              "            await google.colab.kernel.invokeFunction('convertToInteractive',\n",
              "                                                     [key], {});\n",
              "          if (!dataTable) return;\n",
              "\n",
              "          const docLinkHtml = 'Like what you see? Visit the ' +\n",
              "            '<a target=\"_blank\" href=https://colab.research.google.com/notebooks/data_table.ipynb>data table notebook</a>'\n",
              "            + ' to learn more about interactive tables.';\n",
              "          element.innerHTML = '';\n",
              "          dataTable['output_type'] = 'display_data';\n",
              "          await google.colab.output.renderOutput(dataTable, element);\n",
              "          const docLink = document.createElement('div');\n",
              "          docLink.innerHTML = docLinkHtml;\n",
              "          element.appendChild(docLink);\n",
              "        }\n",
              "      </script>\n",
              "    </div>\n",
              "  </div>\n",
              "  "
            ]
          },
          "metadata": {},
          "execution_count": 7
        }
      ]
    },
    {
      "cell_type": "code",
      "source": [
        "plt.plot(df.Open)"
      ],
      "metadata": {
        "colab": {
          "base_uri": "https://localhost:8080/",
          "height": 448
        },
        "id": "mj9kzFpMh2ie",
        "outputId": "e4281691-6f4f-4977-ae4f-82764f2e0dd6"
      },
      "execution_count": 8,
      "outputs": [
        {
          "output_type": "execute_result",
          "data": {
            "text/plain": [
              "[<matplotlib.lines.Line2D at 0x7f4d423e2f50>]"
            ]
          },
          "metadata": {},
          "execution_count": 8
        },
        {
          "output_type": "display_data",
          "data": {
            "text/plain": [
              "<Figure size 640x480 with 1 Axes>"
            ],
            "image/png": "[encoded data removed]"
          },
          "metadata": {}
        }
      ]
    },
    {
      "cell_type": "code",
      "source": [
        " ma200 =df.Close.rolling(200).mean()\n",
        " ma200"
      ],
      "metadata": {
        "colab": {
          "base_uri": "https://localhost:8080/"
        },
        "id": "4zh6qr_YiIqJ",
        "outputId": "2b0cd75e-1538-4b84-f399-1d47cf9f3349"
      },
      "execution_count": 17,
      "outputs": [
        {
          "output_type": "execute_result",
          "data": {
            "text/plain": [
              "0              NaN\n",
              "1              NaN\n",
              "2              NaN\n",
              "3              NaN\n",
              "4              NaN\n",
              "           ...    \n",
              "3206    105.474225\n",
              "3207    105.450475\n",
              "3208    105.418600\n",
              "3209    105.408675\n",
              "3210    105.414825\n",
              "Name: Close, Length: 3211, dtype: float64"
            ]
          },
          "metadata": {},
          "execution_count": 17
        }
      ]
    },
    {
      "cell_type": "code",
      "source": [
        "ma100 =df.Close.rolling(100).mean()\n",
        "ma100"
      ],
      "metadata": {
        "colab": {
          "base_uri": "https://localhost:8080/"
        },
        "id": "e7puAomyirkm",
        "outputId": "42086b65-db4b-4785-f6ad-ee040c81e5db"
      },
      "execution_count": 13,
      "outputs": [
        {
          "output_type": "execute_result",
          "data": {
            "text/plain": [
              "0            NaN\n",
              "1            NaN\n",
              "2            NaN\n",
              "3            NaN\n",
              "4            NaN\n",
              "          ...   \n",
              "3206    111.0270\n",
              "3207    111.0360\n",
              "3208    111.0465\n",
              "3209    111.0515\n",
              "3210    111.0400\n",
              "Name: Close, Length: 3211, dtype: float64"
            ]
          },
          "metadata": {},
          "execution_count": 13
        }
      ]
    },
    {
      "cell_type": "code",
      "source": [
        "plt.figure(figsize=(12,6))\n",
        "plt.plot(df.Close)\n",
        "plt.plot(ma200, 'r')\n",
        "plt.plot(ma100, 'b')"
      ],
      "metadata": {
        "colab": {
          "base_uri": "https://localhost:8080/",
          "height": 409
        },
        "id": "D5wCyCAXiYCE",
        "outputId": "2c73ec0a-2b4c-436d-ad3c-cb1cdba1fce5"
      },
      "execution_count": 19,
      "outputs": [
        {
          "output_type": "execute_result",
          "data": {
            "text/plain": [
              "[<matplotlib.lines.Line2D at 0x7f4d400c4040>]"
            ]
          },
          "metadata": {},
          "execution_count": 19
        },
        {
          "output_type": "display_data",
          "data": {
            "text/plain": [
              "<Figure size 1200x600 with 1 Axes>"
            ],
            "image/png": "[encoded data removed]"
          },
          "metadata": {}
        }
      ]
    },
    {
      "cell_type": "markdown",
      "source": [
        "TRAINING AND TESTING DATASET"
      ],
      "metadata": {
        "id": "ZWOf4dJ2ju4I"
      }
    },
    {
      "cell_type": "code",
      "source": [
        " data_train =pd.DataFrame(df['Close'][0:int(len(df)*0.80)])\n",
        " data_test =pd.DataFrame(df['Close'][int(len(df)*0.80): int(len(df))])\n",
        " print(data_train.shape)\n",
        " print(data_test.shape)"
      ],
      "metadata": {
        "colab": {
          "base_uri": "https://localhost:8080/"
        },
        "id": "roYrM_4wjVPV",
        "outputId": "5b32b798-8b4e-4d80-9b35-5ca1f24a96bc"
      },
      "execution_count": 20,
      "outputs": [
        {
          "output_type": "stream",
          "name": "stdout",
          "text": [
            "(2568, 1)\n",
            "(643, 1)\n"
          ]
        }
      ]
    },
    {
      "cell_type": "code",
      "source": [
        "from sklearn.preprocessing import MinMaxScaler\n",
        "scaler= MinMaxScaler(feature_range=(0,1))"
      ],
      "metadata": {
        "id": "_-kOtAXkkr7h"
      },
      "execution_count": 21,
      "outputs": []
    },
    {
      "cell_type": "code",
      "source": [
        "data_train_array=scaler.fit_transform(data_train)\n",
        "data_train_array"
      ],
      "metadata": {
        "colab": {
          "base_uri": "https://localhost:8080/"
        },
        "id": "IZ4n5RCak35b",
        "outputId": "1efb5e26-7a73-4a5a-9373-1408eb0978ea"
      },
      "execution_count": 22,
      "outputs": [
        {
          "output_type": "execute_result",
          "data": {
            "text/plain": [
              "array([[0.77565146],\n",
              "       [0.82058955],\n",
              "       [0.83613844],\n",
              "       ...,\n",
              "       [0.42346592],\n",
              "       [0.4267838 ],\n",
              "       [0.42203114]])"
            ]
          },
          "metadata": {},
          "execution_count": 22
        }
      ]
    },
    {
      "cell_type": "code",
      "source": [
        "x_train =[]\n",
        "y_train =[]\n",
        "for i in range(100, data_train_array.shape[0]):\n",
        "  x_train.append(data_train_array[i-100:i])\n",
        "  y_train.append(data_train_array[i,0])\n",
        "x_train, y_train =np.array(x_train), np.array(y_train)"
      ],
      "metadata": {
        "id": "9cYUp6uSmAwo"
      },
      "execution_count": 24,
      "outputs": []
    },
    {
      "cell_type": "code",
      "source": [
        "x_train.shape"
      ],
      "metadata": {
        "colab": {
          "base_uri": "https://localhost:8080/"
        },
        "id": "21URmunCnn0k",
        "outputId": "c0414ec1-1845-4469-999b-ef7036a58f67"
      },
      "execution_count": 27,
      "outputs": [
        {
          "output_type": "execute_result",
          "data": {
            "text/plain": [
              "(2468, 100, 1)"
            ]
          },
          "metadata": {},
          "execution_count": 27
        }
      ]
    },
    {
      "cell_type": "markdown",
      "source": [
        "APPLYING ML MODEL"
      ],
      "metadata": {
        "id": "_5daAbYJnUBN"
      }
    },
    {
      "cell_type": "code",
      "source": [
        "from keras.layers import Dense, Dropout, LSTM\n",
        "from keras.models import Sequential"
      ],
      "metadata": {
        "id": "iLOujFTnnYCa"
      },
      "execution_count": 28,
      "outputs": []
    },
    {
      "cell_type": "code",
      "source": [
        "model =Sequential()\n",
        "model.add(LSTM(units=50, activation ='relu', return_sequences =True, input_shape=(x_train.shape[1],1)))\n",
        "model.add(Dropout(0.2))\n",
        "\n",
        "model.add(LSTM(units=80, activation ='relu', return_sequences =True))\n",
        "model.add(Dropout(0.3))\n",
        "\n",
        "model.add(LSTM(units=120, activation ='relu', return_sequences =True))\n",
        "model.add(Dropout(0.4))\n",
        "\n",
        "model.add(LSTM(units=150, activation ='relu'))\n",
        "model.add(Dropout(0.5))\n",
        "\n",
        "model.add(Dense(units=1))"
      ],
      "metadata": {
        "id": "w73w-Zc2n7Ko"
      },
      "execution_count": 36,
      "outputs": []
    },
    {
      "cell_type": "code",
      "source": [
        "model.summary()"
      ],
      "metadata": {
        "colab": {
          "base_uri": "https://localhost:8080/"
        },
        "id": "1W93wFuxo4eb",
        "outputId": "062085c6-5485-4d43-d2e9-1fcf429861e7"
      },
      "execution_count": 37,
      "outputs": [
        {
          "output_type": "stream",
          "name": "stdout",
          "text": [
            "Model: \"sequential_6\"\n",
            "_________________________________________________________________\n",
            " Layer (type)                Output Shape              Param #   \n",
            "=================================================================\n",
            " lstm_12 (LSTM)              (None, 100, 50)           10400     \n",
            "                                                                 \n",
            " dropout_12 (Dropout)        (None, 100, 50)           0         \n",
            "                                                                 \n",
            " lstm_13 (LSTM)              (None, 100, 80)           41920     \n",
            "                                                                 \n",
            " dropout_13 (Dropout)        (None, 100, 80)           0         \n",
            "                                                                 \n",
            " lstm_14 (LSTM)              (None, 100, 120)          96480     \n",
            "                                                                 \n",
            " dropout_14 (Dropout)        (None, 100, 120)          0         \n",
            "                                                                 \n",
            " lstm_15 (LSTM)              (None, 150)               162600    \n",
            "                                                                 \n",
            " dropout_15 (Dropout)        (None, 150)               0         \n",
            "                                                                 \n",
            " dense_3 (Dense)             (None, 1)                 151       \n",
            "                                                                 \n",
            "=================================================================\n",
            "Total params: 311,551\n",
            "Trainable params: 311,551\n",
            "Non-trainable params: 0\n",
            "_________________________________________________________________\n"
          ]
        }
      ]
    },
    {
      "cell_type": "code",
      "source": [
        "model.compile(optimizer='adam', loss = 'mean_squared_error')\n",
        "model.fit(x_train, y_train, epochs=50)"
      ],
      "metadata": {
        "colab": {
          "base_uri": "https://localhost:8080/"
        },
        "id": "8bzrHBqEp0B9",
        "outputId": "b2a3a31d-f330-4787-9f51-9a5b86a7babb"
      },
      "execution_count": 40,
      "outputs": [
        {
          "output_type": "stream",
          "name": "stdout",
          "text": [
            "Epoch 1/50\n",
            "78/78 [==============================] - 39s 439ms/step - loss: 0.0282\n",
            "Epoch 2/50\n",
            "78/78 [==============================] - 33s 425ms/step - loss: 0.0097\n",
            "Epoch 3/50\n",
            "78/78 [==============================] - 35s 443ms/step - loss: 0.0073\n",
            "Epoch 4/50\n",
            "78/78 [==============================] - 34s 439ms/step - loss: 0.0089\n",
            "Epoch 5/50\n",
            "78/78 [==============================] - 33s 427ms/step - loss: 0.0061\n",
            "Epoch 6/50\n",
            "78/78 [==============================] - 34s 441ms/step - loss: 0.0056\n",
            "Epoch 7/50\n",
            "78/78 [==============================] - 35s 443ms/step - loss: 0.0054\n",
            "Epoch 8/50\n",
            "78/78 [==============================] - 33s 426ms/step - loss: 0.0048\n",
            "Epoch 9/50\n",
            "78/78 [==============================] - 35s 444ms/step - loss: 0.0046\n",
            "Epoch 10/50\n",
            "78/78 [==============================] - 34s 443ms/step - loss: 0.0044\n",
            "Epoch 11/50\n",
            "78/78 [==============================] - 33s 426ms/step - loss: 0.0046\n",
            "Epoch 12/50\n",
            "78/78 [==============================] - 34s 434ms/step - loss: 0.0043\n",
            "Epoch 13/50\n",
            "78/78 [==============================] - 34s 442ms/step - loss: 0.0042\n",
            "Epoch 14/50\n",
            "78/78 [==============================] - 33s 430ms/step - loss: 0.0041\n",
            "Epoch 15/50\n",
            "78/78 [==============================] - 34s 428ms/step - loss: 0.0044\n",
            "Epoch 16/50\n",
            "78/78 [==============================] - 34s 438ms/step - loss: 0.0035\n",
            "Epoch 17/50\n",
            "78/78 [==============================] - 37s 472ms/step - loss: 0.0037\n",
            "Epoch 18/50\n",
            "78/78 [==============================] - 40s 505ms/step - loss: 0.0034\n",
            "Epoch 19/50\n",
            "78/78 [==============================] - 34s 430ms/step - loss: 0.0039\n",
            "Epoch 20/50\n",
            "78/78 [==============================] - 34s 433ms/step - loss: 0.0032\n",
            "Epoch 21/50\n",
            "78/78 [==============================] - 34s 441ms/step - loss: 0.0034\n",
            "Epoch 22/50\n",
            "78/78 [==============================] - 37s 481ms/step - loss: 0.0031\n",
            "Epoch 23/50\n",
            "78/78 [==============================] - 45s 585ms/step - loss: 0.0031\n",
            "Epoch 24/50\n",
            "78/78 [==============================] - 49s 626ms/step - loss: 0.0032\n",
            "Epoch 25/50\n",
            "78/78 [==============================] - 45s 578ms/step - loss: 0.0028\n",
            "Epoch 26/50\n",
            "78/78 [==============================] - 46s 585ms/step - loss: 0.0028\n",
            "Epoch 27/50\n",
            "78/78 [==============================] - 39s 498ms/step - loss: 0.0031\n",
            "Epoch 28/50\n",
            "78/78 [==============================] - 40s 509ms/step - loss: 0.0027\n",
            "Epoch 29/50\n",
            "78/78 [==============================] - 36s 465ms/step - loss: 0.0027\n",
            "Epoch 30/50\n",
            "78/78 [==============================] - 34s 442ms/step - loss: 0.0027\n",
            "Epoch 31/50\n",
            "78/78 [==============================] - 41s 532ms/step - loss: 0.0025\n",
            "Epoch 32/50\n",
            "78/78 [==============================] - 49s 627ms/step - loss: 0.0024\n",
            "Epoch 33/50\n",
            "78/78 [==============================] - 56s 710ms/step - loss: 0.0025\n",
            "Epoch 34/50\n",
            "78/78 [==============================] - 54s 693ms/step - loss: 0.0023\n",
            "Epoch 35/50\n",
            "78/78 [==============================] - 45s 570ms/step - loss: 0.0025\n",
            "Epoch 36/50\n",
            "78/78 [==============================] - 46s 582ms/step - loss: 0.0027\n",
            "Epoch 37/50\n",
            "78/78 [==============================] - 35s 448ms/step - loss: 0.0023\n",
            "Epoch 38/50\n",
            "78/78 [==============================] - 40s 511ms/step - loss: 0.0025\n",
            "Epoch 39/50\n",
            "78/78 [==============================] - 42s 542ms/step - loss: 0.0023\n",
            "Epoch 40/50\n",
            "78/78 [==============================] - 35s 444ms/step - loss: 0.0022\n",
            "Epoch 41/50\n",
            "78/78 [==============================] - 35s 444ms/step - loss: 0.0021\n",
            "Epoch 42/50\n",
            "78/78 [==============================] - 34s 429ms/step - loss: 0.0022\n",
            "Epoch 43/50\n",
            "78/78 [==============================] - 35s 453ms/step - loss: 0.0021\n",
            "Epoch 44/50\n",
            "78/78 [==============================] - 48s 619ms/step - loss: 0.0023\n",
            "Epoch 45/50\n",
            "78/78 [==============================] - 57s 728ms/step - loss: 0.0021\n",
            "Epoch 46/50\n",
            "78/78 [==============================] - 52s 673ms/step - loss: 0.0022\n",
            "Epoch 47/50\n",
            "78/78 [==============================] - 47s 612ms/step - loss: 0.0020\n",
            "Epoch 48/50\n",
            "78/78 [==============================] - 33s 426ms/step - loss: 0.0022\n",
            "Epoch 49/50\n",
            "78/78 [==============================] - 35s 443ms/step - loss: 0.0020\n",
            "Epoch 50/50\n",
            "78/78 [==============================] - 34s 443ms/step - loss: 0.0021\n"
          ]
        },
        {
          "output_type": "execute_result",
          "data": {
            "text/plain": [
              "<keras.callbacks.History at 0x7f4cdc340340>"
            ]
          },
          "metadata": {},
          "execution_count": 40
        }
      ]
    },
    {
      "cell_type": "code",
      "source": [
        "model.save('keras_stock_model.h5')"
      ],
      "metadata": {
        "id": "XaL3cGNGsWvV"
      },
      "execution_count": 41,
      "outputs": []
    },
    {
      "cell_type": "code",
      "source": [
        "# now adding last 100 rows from training datset such that we will be able to work on the fisrt row of test datset\n",
        "prev_100= data_train.tail(100)\n",
        "final_test_df = prev_100.append(data_test, ignore_index =True)\n",
        "final_test_df.head()"
      ],
      "metadata": {
        "colab": {
          "base_uri": "https://localhost:8080/",
          "height": 262
        },
        "id": "1m7nizaWtCyf",
        "outputId": "93205d85-f312-4c99-c9ca-0445e405d3b5"
      },
      "execution_count": 42,
      "outputs": [
        {
          "output_type": "stream",
          "name": "stderr",
          "text": [
            "<ipython-input-42-f342430086f3>:3: FutureWarning: The frame.append method is deprecated and will be removed from pandas in a future version. Use pandas.concat instead.\n",
            "  final_test_df = prev_100.append(data_test, ignore_index =True)\n"
          ]
        },
        {
          "output_type": "execute_result",
          "data": {
            "text/plain": [
              "       Close\n",
              "0  27.620001\n",
              "1  27.475000\n",
              "2  28.485001\n",
              "3  28.254999\n",
              "4  28.514999"
            ],
            "text/html": [
              "\n",
              "  <div id=\"df-d6bb4c6f-209f-4324-8961-93d7e9c51686\">\n",
              "    <div class=\"colab-df-container\">\n",
              "      <div>\n",
              "<style scoped>\n",
              "    .dataframe tbody tr th:only-of-type {\n",
              "        vertical-align: middle;\n",
              "    }\n",
              "\n",
              "    .dataframe tbody tr th {\n",
              "        vertical-align: top;\n",
              "    }\n",
              "\n",
              "    .dataframe thead th {\n",
              "        text-align: right;\n",
              "    }\n",
              "</style>\n",
              "<table border=\"1\" class=\"dataframe\">\n",
              "  <thead>\n",
              "    <tr style=\"text-align: right;\">\n",
              "      <th></th>\n",
              "      <th>Close</th>\n",
              "    </tr>\n",
              "  </thead>\n",
              "  <tbody>\n",
              "    <tr>\n",
              "      <th>0</th>\n",
              "      <td>27.620001</td>\n",
              "    </tr>\n",
              "    <tr>\n",
              "      <th>1</th>\n",
              "      <td>27.475000</td>\n",
              "    </tr>\n",
              "    <tr>\n",
              "      <th>2</th>\n",
              "      <td>28.485001</td>\n",
              "    </tr>\n",
              "    <tr>\n",
              "      <th>3</th>\n",
              "      <td>28.254999</td>\n",
              "    </tr>\n",
              "    <tr>\n",
              "      <th>4</th>\n",
              "      <td>28.514999</td>\n",
              "    </tr>\n",
              "  </tbody>\n",
              "</table>\n",
              "</div>\n",
              "      <button class=\"colab-df-convert\" onclick=\"convertToInteractive('df-d6bb4c6f-209f-4324-8961-93d7e9c51686')\"\n",
              "              title=\"Convert this dataframe to an interactive table.\"\n",
              "              style=\"display:none;\">\n",
              "        \n",
              "  <svg xmlns=\"http://www.w3.org/2000/svg\" height=\"24px\"viewBox=\"0 0 24 24\"\n",
              "       width=\"24px\">\n",
              "    <path d=\"M0 0h24v24H0V0z\" fill=\"none\"/>\n",
              "    <path d=\"M18.56 5.44l.94 2.06.94-2.06 2.06-.94-2.06-.94-.94-2.06-.94 2.06-2.06.94zm-11 1L8.5 8.5l.94-2.06 2.06-.94-2.06-.94L8.5 2.5l-.94 2.06-2.06.94zm10 10l.94 2.06.94-2.06 2.06-.94-2.06-.94-.94-2.06-.94 2.06-2.06.94z\"/><path d=\"M17.41 7.96l-1.37-1.37c-.4-.4-.92-.59-1.43-.59-.52 0-1.04.2-1.43.59L10.3 9.45l-7.72 7.72c-.78.78-.78 2.05 0 2.83L4 21.41c.39.39.9.59 1.41.59.51 0 1.02-.2 1.41-.59l7.78-7.78 2.81-2.81c.8-.78.8-2.07 0-2.86zM5.41 20L4 18.59l7.72-7.72 1.47 1.35L5.41 20z\"/>\n",
              "  </svg>\n",
              "      </button>\n",
              "      \n",
              "  <style>\n",
              "    .colab-df-container {\n",
              "      display:flex;\n",
              "      flex-wrap:wrap;\n",
              "      gap: 12px;\n",
              "    }\n",
              "\n",
              "    .colab-df-convert {\n",
              "      background-color: #E8F0FE;\n",
              "      border: none;\n",
              "      border-radius: 50%;\n",
              "      cursor: pointer;\n",
              "      display: none;\n",
              "      fill: #1967D2;\n",
              "      height: 32px;\n",
              "      padding: 0 0 0 0;\n",
              "      width: 32px;\n",
              "    }\n",
              "\n",
              "    .colab-df-convert:hover {\n",
              "      background-color: #E2EBFA;\n",
              "      box-shadow: 0px 1px 2px rgba(60, 64, 67, 0.3), 0px 1px 3px 1px rgba(60, 64, 67, 0.15);\n",
              "      fill: #174EA6;\n",
              "    }\n",
              "\n",
              "    [theme=dark] .colab-df-convert {\n",
              "      background-color: #3B4455;\n",
              "      fill: #D2E3FC;\n",
              "    }\n",
              "\n",
              "    [theme=dark] .colab-df-convert:hover {\n",
              "      background-color: #434B5C;\n",
              "      box-shadow: 0px 1px 3px 1px rgba(0, 0, 0, 0.15);\n",
              "      filter: drop-shadow(0px 1px 2px rgba(0, 0, 0, 0.3));\n",
              "      fill: #FFFFFF;\n",
              "    }\n",
              "  </style>\n",
              "\n",
              "      <script>\n",
              "        const buttonEl =\n",
              "          document.querySelector('#df-d6bb4c6f-209f-4324-8961-93d7e9c51686 button.colab-df-convert');\n",
              "        buttonEl.style.display =\n",
              "          google.colab.kernel.accessAllowed ? 'block' : 'none';\n",
              "\n",
              "        async function convertToInteractive(key) {\n",
              "          const element = document.querySelector('#df-d6bb4c6f-209f-4324-8961-93d7e9c51686');\n",
              "          const dataTable =\n",
              "            await google.colab.kernel.invokeFunction('convertToInteractive',\n",
              "                                                     [key], {});\n",
              "          if (!dataTable) return;\n",
              "\n",
              "          const docLinkHtml = 'Like what you see? Visit the ' +\n",
              "            '<a target=\"_blank\" href=https://colab.research.google.com/notebooks/data_table.ipynb>data table notebook</a>'\n",
              "            + ' to learn more about interactive tables.';\n",
              "          element.innerHTML = '';\n",
              "          dataTable['output_type'] = 'display_data';\n",
              "          await google.colab.output.renderOutput(dataTable, element);\n",
              "          const docLink = document.createElement('div');\n",
              "          docLink.innerHTML = docLinkHtml;\n",
              "          element.appendChild(docLink);\n",
              "        }\n",
              "      </script>\n",
              "    </div>\n",
              "  </div>\n",
              "  "
            ]
          },
          "metadata": {},
          "execution_count": 42
        }
      ]
    },
    {
      "cell_type": "code",
      "source": [
        "input_data= scaler.fit_transform(final_test_df)\n",
        "input_data.shape"
      ],
      "metadata": {
        "colab": {
          "base_uri": "https://localhost:8080/"
        },
        "id": "SJk5n4wKuHvx",
        "outputId": "f610a8b7-8dad-483e-bb5c-0ce94c507d74"
      },
      "execution_count": 43,
      "outputs": [
        {
          "output_type": "execute_result",
          "data": {
            "text/plain": [
              "(743, 1)"
            ]
          },
          "metadata": {},
          "execution_count": 43
        }
      ]
    },
    {
      "cell_type": "code",
      "source": [
        "x_test =[]\n",
        "y_test =[]\n",
        "for i in range(100, input_data.shape[0]):\n",
        "  x_test.append(input_data[i-100:i])\n",
        "  y_test.append(input_data[i,0])\n",
        "x_test, y_test =np.array(x_test), np.array(y_test)\n",
        "print(x_test.shape)\n",
        "print(y_test.shape)\n"
      ],
      "metadata": {
        "colab": {
          "base_uri": "https://localhost:8080/"
        },
        "id": "EfAuT_hIur4F",
        "outputId": "e46f7a48-662c-418e-da35-6fe4a1ef69da"
      },
      "execution_count": 44,
      "outputs": [
        {
          "output_type": "stream",
          "name": "stdout",
          "text": [
            "(643, 100, 1)\n",
            "(643,)\n"
          ]
        }
      ]
    },
    {
      "cell_type": "markdown",
      "source": [
        "DOING PREDICTIONS"
      ],
      "metadata": {
        "id": "dv2yrZGBvQGd"
      }
    },
    {
      "cell_type": "code",
      "source": [
        "y_pred =model.predict(x_test)\n",
        "y_pred.shape"
      ],
      "metadata": {
        "colab": {
          "base_uri": "https://localhost:8080/"
        },
        "id": "oRK8CSNvvPXX",
        "outputId": "9296ed40-4334-4a97-dd21-4fd762fc2c8a"
      },
      "execution_count": 45,
      "outputs": [
        {
          "output_type": "stream",
          "name": "stdout",
          "text": [
            "21/21 [==============================] - 3s 116ms/step\n"
          ]
        },
        {
          "output_type": "execute_result",
          "data": {
            "text/plain": [
              "(643, 1)"
            ]
          },
          "metadata": {},
          "execution_count": 45
        }
      ]
    },
    {
      "cell_type": "code",
      "source": [
        "#factor need to scaling up\n",
        "scale_factor = scaler.scale_"
      ],
      "metadata": {
        "id": "E1Dyb7kbvqyS"
      },
      "execution_count": 52,
      "outputs": []
    },
    {
      "cell_type": "code",
      "source": [
        "y_pred =y_pred*scale_factor\n",
        "y_test =y_test *scale_factor"
      ],
      "metadata": {
        "id": "F8HxK8PUwhev"
      },
      "execution_count": 53,
      "outputs": []
    },
    {
      "cell_type": "code",
      "source": [
        "plt.figure(figsize=(12,6))\n",
        "plt.plot(y_test, 'b', label ='Original Price')\n",
        "plt.plot(y_pred, 'r', label ='Predicted Price')\n",
        "plt.xlabel('Time')\n",
        "plt.ylabel('Price')\n",
        "plt.legend()\n",
        "plt.show()"
      ],
      "metadata": {
        "colab": {
          "base_uri": "https://localhost:8080/",
          "height": 416
        },
        "id": "nonFkCF0ww8C",
        "outputId": "c0b9d546-055f-4d8f-99c0-58684a9471e9"
      },
      "execution_count": 54,
      "outputs": [
        {
          "output_type": "display_data",
          "data": {
            "text/plain": [
              "<Figure size 1200x600 with 1 Axes>"
            ],
            "image/png": "[encoded data removed]"
          },
          "metadata": {}
        }
      ]
    }
  ]
}